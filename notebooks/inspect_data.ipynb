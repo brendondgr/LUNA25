{
 "cells": [
  {
   "cell_type": "code",
   "execution_count": 3,
   "metadata": {},
   "outputs": [],
   "source": [
    "import ipywidgets as widgets\n",
    "import SimpleITK as sitk\n",
    "import numpy as np\n",
    "import matplotlib.pyplot as plt\n",
    "import os"
   ]
  },
  {
   "cell_type": "code",
   "execution_count": null,
   "metadata": {},
   "outputs": [],
   "source": [
    "def read_mha_file(file_path):\n",
    "    \"\"\"\n",
    "    Reads a .mha file and returns the image as a SimpleITK Image object.\n",
    "\n",
    "    Parameters:\n",
    "    file_path (str): The path to the .mha file.\n",
    "\n",
    "    Returns:\n",
    "    sitk.Image: The image read from the .mha file.\n",
    "    \"\"\"\n",
    "    image = sitk.ReadImage(file_path)\n",
    "    return image\n",
    "\n",
    "# Example usage:\n",
    "# image = read_mha_file('path/to/your/file.mha')"
   ]
  }
 ],
 "metadata": {
  "kernelspec": {
   "display_name": "luna25",
   "language": "python",
   "name": "python3"
  },
  "language_info": {
   "codemirror_mode": {
    "name": "ipython",
    "version": 3
   },
   "file_extension": ".py",
   "mimetype": "text/x-python",
   "name": "python",
   "nbconvert_exporter": "python",
   "pygments_lexer": "ipython3",
   "version": "3.10.0"
  }
 },
 "nbformat": 4,
 "nbformat_minor": 2
}
