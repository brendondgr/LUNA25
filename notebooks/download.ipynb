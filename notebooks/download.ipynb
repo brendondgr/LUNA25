{
 "cells": [
  {
   "cell_type": "markdown",
   "metadata": {},
   "source": [
    "## Imports"
   ]
  },
  {
   "cell_type": "code",
   "execution_count": null,
   "metadata": {},
   "outputs": [],
   "source": [
    "import subprocess\n",
    "import pyzenodo3\n",
    "import os\n",
    "import pandas as pd\n",
    "from pyunpack import Archive"
   ]
  },
  {
   "cell_type": "markdown",
   "metadata": {},
   "source": [
    "## Set-Up Downloads"
   ]
  },
  {
   "cell_type": "code",
   "execution_count": null,
   "metadata": {},
   "outputs": [],
   "source": [
    "zen = pyzenodo3.Zenodo()"
   ]
  },
  {
   "cell_type": "code",
   "execution_count": null,
   "metadata": {},
   "outputs": [],
   "source": [
    "links = {\n",
    "    \"images\": \"10.5281/zenodo.14223624\",\n",
    "    \"annotations\": \"10.5281/zenodo.14673658\"\n",
    "}"
   ]
  },
  {
   "cell_type": "code",
   "execution_count": null,
   "metadata": {},
   "outputs": [],
   "source": [
    "record_images = zen.find_record_by_doi(links[\"images\"]).data['files']\n",
    "print(f'Found Records for Images, is of type {type(record_images)}')\n",
    "record_annotations = zen.find_record_by_doi(links[\"annotations\"]).data['files']\n",
    "print(f'Found Records for Annotations, is of type {type(record_annotations)}')"
   ]
  },
  {
   "cell_type": "code",
   "execution_count": null,
   "metadata": {},
   "outputs": [],
   "source": [
    "naming_convention = {\n",
    "    \"nodules\": \"nodules\",\n",
    "    \"images\": \"images\",\n",
    "    \"annotations\": \"annotations\"\n",
    "}"
   ]
  },
  {
   "cell_type": "markdown",
   "metadata": {},
   "source": [
    "## Downloads the Record Images\n",
    "- Warning: ~212GB (For All Files...)\n",
    "- Set Limiter Below, still downloads Nodules."
   ]
  },
  {
   "cell_type": "code",
   "execution_count": null,
   "metadata": {},
   "outputs": [],
   "source": [
    "# Limit the Number of Downloads to Make. If -1, download all files.\n",
    "# If Limiter is 1, it still downloads the Nodule Files.\n",
    "limit = 1"
   ]
  },
  {
   "cell_type": "code",
   "execution_count": null,
   "metadata": {},
   "outputs": [],
   "source": [
    "# Convert to pandas DataFrame\n",
    "df_images = pd.DataFrame(record_images)\n",
    "\n",
    "# Sort by 'key'\n",
    "df_images = df_images.sort_values(by='key')\n",
    "\n",
    "# Convert back to list of dictionaries\n",
    "record_images = df_images.to_dict(orient='records')\n",
    "\n",
    "image_count = 0\n",
    "\n",
    "for record in record_images:\n",
    "    # Get the name and download url\n",
    "    name = record['key']\n",
    "    download_url = record['links']['self']\n",
    "    \n",
    "    # If \"nodule\" in name, then it is a nodule image\n",
    "    if \"nodule\" in name:\n",
    "        download_dir = naming_convention[\"nodules\"]\n",
    "    else:\n",
    "        if limit != -1 and image_count >= limit:\n",
    "            # Go to Next Item in For Loop.\n",
    "            continue\n",
    "        download_dir = naming_convention[\"images\"]\n",
    "        image_count += 1\n",
    "    \n",
    "    # Create the download directory\n",
    "    download_dir = os.path.join(\"data\", download_dir)\n",
    "    os.makedirs(download_dir, exist_ok=True)\n",
    "    \n",
    "    # Check if the file already exists\n",
    "    if os.path.exists(os.path.join(download_dir, name)):\n",
    "        print(f'{name} already exists. Skipping...')\n",
    "        continue\n",
    "    \n",
    "    # Download\n",
    "    subprocess.run([\"wget\", \"-O\", os.path.join(download_dir, name), download_url])\n",
    "\n",
    "print(f'\\n\\n#############################')\n",
    "print(f'##    Images Downloaded    ##')\n",
    "print(f'#############################')"
   ]
  },
  {
   "cell_type": "markdown",
   "metadata": {},
   "source": [
    "## Downloads Annotations"
   ]
  },
  {
   "cell_type": "code",
   "execution_count": null,
   "metadata": {},
   "outputs": [],
   "source": [
    "# Download Location\n",
    "download_dir = f'{naming_convention[\"annotations\"]}'\n",
    "download_dir = os.path.join(\"data\", download_dir)\n",
    "os.makedirs(download_dir, exist_ok=True)\n",
    "\n",
    "for record in record_annotations:\n",
    "    # Get the name and download url\n",
    "    name = record['key']\n",
    "    download_url = record['links']['self']\n",
    "    \n",
    "    # Check if the file already exists\n",
    "    if os.path.exists(os.path.join(download_dir, name)):\n",
    "        print(f'{name} already exists. Skipping...')\n",
    "        continue\n",
    "    \n",
    "    # Download\n",
    "    subprocess.run([\"wget\", \"-O\", os.path.join(download_dir, name), download_url])\n",
    "\n",
    "print(f'\\n\\n############################')\n",
    "print(f'## Annotations Downloaded ##')\n",
    "print(f'############################')"
   ]
  },
  {
   "cell_type": "markdown",
   "metadata": {},
   "source": [
    "## Unzip the Files"
   ]
  },
  {
   "cell_type": "code",
   "execution_count": null,
   "metadata": {},
   "outputs": [],
   "source": [
    "# Location\n",
    "image_location = os.path.join(\"data\", naming_convention[\"images\"]) + \"/\"\n",
    "nodule_location = os.path.join(\"data\", naming_convention[\"nodules\"]) + \"/\"\n",
    "\n",
    "# Extracted Location\n",
    "image_extracted_location = os.path.join(\"data\", naming_convention[\"images\"], \"luna25_images\") + \"/\"\n",
    "nodule_extracted_location = os.path.join(\"data\", naming_convention[\"nodules\"], \"luna25_nodule_blocks\") + \"/\"\n",
    "\n",
    "# Create Extracted Locations if they do not exist\n",
    "os.makedirs(image_extracted_location, exist_ok=True)\n",
    "os.makedirs(nodule_extracted_location, exist_ok=True)\n",
    "\n",
    "# Print All 4\n",
    "print(f'Images: {image_location}')\n",
    "print(f'Nodules: {nodule_location}')\n",
    "print(f'Extracted Images: {image_extracted_location}')\n",
    "print(f'Extracted Nodules: {nodule_extracted_location}')"
   ]
  },
  {
   "cell_type": "code",
   "execution_count": null,
   "metadata": {},
   "outputs": [],
   "source": [
    "# In /data/images/ and /data/nodules/, get list of items.\n",
    "image_list = os.listdir(image_location)\n",
    "nodule_list = os.listdir(nodule_location)\n",
    "\n",
    "# Remove Directories.\n",
    "image_list = [i for i in image_list if os.path.isfile(os.path.join(image_location, i))]\n",
    "nodule_list = [i for i in nodule_list if os.path.isfile(os.path.join(nodule_location, i))]\n",
    "\n",
    "# Print Length of Each\n",
    "print(f'There are {len(image_list)} images and {len(nodule_list)} nodules.')"
   ]
  },
  {
   "cell_type": "markdown",
   "metadata": {},
   "source": [
    "### Unzipping"
   ]
  },
  {
   "cell_type": "code",
   "execution_count": null,
   "metadata": {},
   "outputs": [],
   "source": [
    "# Unzip the Contents of the .zip files into the same folder, do not create a new folder.\n",
    "for image_name in image_list:\n",
    "    full_file_location = image_location + image_name\n",
    "    Archive(full_file_location).extractall(image_location)\n",
    "    print(f'Unzipped {image_name}')\n",
    "\n",
    "for nodule in nodule_list:\n",
    "    full_extract_location = nodule_location + nodule\n",
    "    Archive(full_extract_location).extractall(nodule_location)\n",
    "    print(f'Unzipped {nodule}')"
   ]
  },
  {
   "cell_type": "markdown",
   "metadata": {},
   "source": [
    "### Moving Files Back"
   ]
  },
  {
   "cell_type": "code",
   "execution_count": null,
   "metadata": {},
   "outputs": [],
   "source": [
    "# Move All Items from Extracted Locations to the Location Folder.\n",
    "for image in os.listdir(image_extracted_location):\n",
    "    os.rename(os.path.join(image_extracted_location, image), os.path.join(image_location, image))\n",
    "\n",
    "for nodule in os.listdir(nodule_extracted_location):\n",
    "    os.rename(os.path.join(nodule_extracted_location, nodule), os.path.join(nodule_location, nodule))"
   ]
  },
  {
   "cell_type": "markdown",
   "metadata": {},
   "source": [
    "### Deleting Old Zip Files"
   ]
  },
  {
   "cell_type": "code",
   "execution_count": null,
   "metadata": {},
   "outputs": [],
   "source": [
    "# Delete all old zip files in image_list\n",
    "for image in image_list:\n",
    "    os.remove(os.path.join(image_location, image))\n",
    "    print(f'Deleted {image}')\n",
    "\n",
    "# Delete all old zip files in nodule_list\n",
    "for nodule in nodule_list:\n",
    "    os.remove(os.path.join(nodule_location, nodule))\n",
    "    print(f'Deleted {nodule}')"
   ]
  }
 ],
 "metadata": {
  "kernelspec": {
   "display_name": "luna25",
   "language": "python",
   "name": "python3"
  },
  "language_info": {
   "codemirror_mode": {
    "name": "ipython",
    "version": 3
   },
   "file_extension": ".py",
   "mimetype": "text/x-python",
   "name": "python",
   "nbconvert_exporter": "python",
   "pygments_lexer": "ipython3",
   "version": "3.10.0"
  }
 },
 "nbformat": 4,
 "nbformat_minor": 2
}
