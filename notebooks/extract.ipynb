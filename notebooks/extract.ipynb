{
 "cells": [
  {
   "cell_type": "code",
   "execution_count": 1,
   "metadata": {},
   "outputs": [],
   "source": [
    "import os\n",
    "from pyunpack import Archive"
   ]
  },
  {
   "cell_type": "code",
   "execution_count": 2,
   "metadata": {},
   "outputs": [
    {
     "data": {
      "text/plain": [
       "'/work/bdgr/LUNA25/notebooks'"
      ]
     },
     "execution_count": 2,
     "metadata": {},
     "output_type": "execute_result"
    }
   ],
   "source": [
    "# Get Power Working Directory\n",
    "pwd = os.getcwd()\n",
    "pwd"
   ]
  },
  {
   "cell_type": "code",
   "execution_count": 3,
   "metadata": {},
   "outputs": [],
   "source": [
    "# Define the locations for the data\n",
    "data_location_image = '../data/images/'\n",
    "extract_location_image = '../extracted/images/'\n",
    "\n",
    "# Define the locations for nodules\n",
    "data_location_nodules = '../data/nodules/'\n",
    "extract_location_nodules = '../extracted/nodules/'"
   ]
  },
  {
   "cell_type": "code",
   "execution_count": 5,
   "metadata": {},
   "outputs": [
    {
     "name": "stdout",
     "output_type": "stream",
     "text": [
      "['../data/images/luna25_images.zip.001', '../data/images/luna25_images.zip.002', '../data/images/luna25_images.zip.003', '../data/images/luna25_images.zip.004', '../data/images/luna25_images.zip.005', '../data/images/luna25_images.zip.006', '../data/images/luna25_images.zip.007', '../data/images/luna25_images.zip.008', '../data/images/luna25_images.zip.009', '../data/images/luna25_images.zip.010', '../data/images/luna25_images.zip.011', '../data/images/luna25_images.zip.012', '../data/images/luna25_images.zip.013', '../data/images/luna25_images.zip.014', '../data/images/luna25_images.zip.015', '../data/images/luna25_images.zip.016', '../data/images/luna25_images.zip.017', '../data/images/luna25_images.zip.018', '../data/images/luna25_images.zip.019', '../data/images/luna25_images.zip.020', '../data/images/luna25_images.zip.021', '../data/images/luna25_images.zip.022', '../data/images/luna25_images.zip.023', '../data/images/luna25_images.zip.024', '../data/images/luna25_images.zip.025', '../data/images/luna25_images.zip.026', '../data/images/luna25_images.zip.027', '../data/images/luna25_images.zip.028', '../data/images/luna25_images.zip.029', '../data/images/luna25_images.zip.030', '../data/images/luna25_images.zip.031', '../data/images/luna25_images.zip.032', '../data/images/luna25_images.zip.033', '../data/images/luna25_images.zip.034', '../data/images/luna25_images.zip.035', '../data/images/luna25_images.zip.036', '../data/images/luna25_images.zip.037', '../data/images/luna25_images.zip.038', '../data/images/luna25_images.zip.039', '../data/images/luna25_images.zip.040', '../data/images/luna25_images.zip.041', '../data/images/luna25_images.zip.042', '../data/images/luna25_images.zip.043', '../data/images/luna25_images.zip.044', '../data/images/luna25_images.zip.045', '../data/images/luna25_images.zip.046']\n",
      "['../data/nodules/luna25_nodule_blocks.zip.001', '../data/nodules/luna25_nodule_blocks.zip.002']\n"
     ]
    }
   ],
   "source": [
    "# Create Full Paths\n",
    "full_paths_images = [data_location_image + x for x in os.listdir(data_location_image)]\n",
    "full_paths_nodules = [data_location_nodules + x for x in os.listdir(data_location_nodules)]\n",
    "\n",
    "print(full_paths_images)\n",
    "print(full_paths_nodules)"
   ]
  }
 ],
 "metadata": {
  "kernelspec": {
   "display_name": "luna25",
   "language": "python",
   "name": "python3"
  },
  "language_info": {
   "codemirror_mode": {
    "name": "ipython",
    "version": 3
   },
   "file_extension": ".py",
   "mimetype": "text/x-python",
   "name": "python",
   "nbconvert_exporter": "python",
   "pygments_lexer": "ipython3",
   "version": "3.10.0"
  }
 },
 "nbformat": 4,
 "nbformat_minor": 2
}
